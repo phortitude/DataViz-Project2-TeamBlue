{
 "cells": [
  {
   "cell_type": "code",
   "execution_count": 1,
   "metadata": {},
   "outputs": [],
   "source": [
    "#Import packages needed\n",
    "import pandas as pd\n",
    "import numpy as np\n",
    "import gmaps\n",
    "import requests\n",
    "import re\n",
    "from config import gkey\n",
    "from pprint import pprint\n",
    "gmaps.configure(api_key=gkey)\n",
    "import matplotlib.pyplot as plt\n"
   ]
  },
  {
   "cell_type": "code",
   "execution_count": 2,
   "metadata": {},
   "outputs": [
    {
     "data": {
      "text/html": [
       "<div>\n",
       "<style scoped>\n",
       "    .dataframe tbody tr th:only-of-type {\n",
       "        vertical-align: middle;\n",
       "    }\n",
       "\n",
       "    .dataframe tbody tr th {\n",
       "        vertical-align: top;\n",
       "    }\n",
       "\n",
       "    .dataframe thead th {\n",
       "        text-align: right;\n",
       "    }\n",
       "</style>\n",
       "<table border=\"1\" class=\"dataframe\">\n",
       "  <thead>\n",
       "    <tr style=\"text-align: right;\">\n",
       "      <th></th>\n",
       "      <th>Job ID</th>\n",
       "      <th>Agency</th>\n",
       "      <th>Posting Type</th>\n",
       "      <th># Of Positions</th>\n",
       "      <th>Business Title</th>\n",
       "      <th>Civil Service Title</th>\n",
       "      <th>Title Code No</th>\n",
       "      <th>Level</th>\n",
       "      <th>Job Category</th>\n",
       "      <th>Full-Time/Part-Time indicator</th>\n",
       "      <th>...</th>\n",
       "      <th>Residency Requirement</th>\n",
       "      <th>Posting Date</th>\n",
       "      <th>Post Until</th>\n",
       "      <th>Posting Updated</th>\n",
       "      <th>Process Date</th>\n",
       "      <th>New Lat</th>\n",
       "      <th>New Long</th>\n",
       "      <th>Formatted Address</th>\n",
       "      <th>Zip</th>\n",
       "      <th>Borough</th>\n",
       "    </tr>\n",
       "  </thead>\n",
       "  <tbody>\n",
       "    <tr>\n",
       "      <th>0</th>\n",
       "      <td>87990</td>\n",
       "      <td>DEPARTMENT OF BUSINESS SERV.</td>\n",
       "      <td>Internal</td>\n",
       "      <td>1</td>\n",
       "      <td>Account Manager</td>\n",
       "      <td>CONTRACT REVIEWER (OFFICE OF L</td>\n",
       "      <td>40563</td>\n",
       "      <td>1</td>\n",
       "      <td>NaN</td>\n",
       "      <td>NaN</td>\n",
       "      <td>...</td>\n",
       "      <td>New York City residency is generally required ...</td>\n",
       "      <td>2011-06-24T00:00:00.000</td>\n",
       "      <td>NaN</td>\n",
       "      <td>2011-06-24T00:00:00.000</td>\n",
       "      <td>2019-07-30T00:00:00.000</td>\n",
       "      <td>40.708793</td>\n",
       "      <td>-74.006836</td>\n",
       "      <td>110 William St_ New York_ NY 10038_ USA</td>\n",
       "      <td>10038</td>\n",
       "      <td>Manhattan</td>\n",
       "    </tr>\n",
       "    <tr>\n",
       "      <th>1</th>\n",
       "      <td>97899</td>\n",
       "      <td>DEPARTMENT OF BUSINESS SERV.</td>\n",
       "      <td>Internal</td>\n",
       "      <td>1</td>\n",
       "      <td>EXECUTIVE DIRECTOR_ BUSINESS DEVELOPMENT</td>\n",
       "      <td>ADMINISTRATIVE BUSINESS PROMOT</td>\n",
       "      <td>10009</td>\n",
       "      <td>M3</td>\n",
       "      <td>NaN</td>\n",
       "      <td>F</td>\n",
       "      <td>...</td>\n",
       "      <td>New York City residency is generally required ...</td>\n",
       "      <td>2012-01-26T00:00:00.000</td>\n",
       "      <td>NaN</td>\n",
       "      <td>2012-01-26T00:00:00.000</td>\n",
       "      <td>2019-07-30T00:00:00.000</td>\n",
       "      <td>40.708793</td>\n",
       "      <td>-74.006836</td>\n",
       "      <td>110 William St_ New York_ NY 10038_ USA</td>\n",
       "      <td>10038</td>\n",
       "      <td>Manhattan</td>\n",
       "    </tr>\n",
       "    <tr>\n",
       "      <th>2</th>\n",
       "      <td>137433</td>\n",
       "      <td>DEPT OF HEALTH/MENTAL HYGIENE</td>\n",
       "      <td>Internal</td>\n",
       "      <td>1</td>\n",
       "      <td>Contract Analyst</td>\n",
       "      <td>PROCUREMENT ANALYST</td>\n",
       "      <td>12158</td>\n",
       "      <td>3</td>\n",
       "      <td>Finance_ Accounting_ &amp; Procurement</td>\n",
       "      <td>F</td>\n",
       "      <td>...</td>\n",
       "      <td>New York City residency is generally required ...</td>\n",
       "      <td>2013-12-09T00:00:00.000</td>\n",
       "      <td>NaN</td>\n",
       "      <td>2013-12-09T00:00:00.000</td>\n",
       "      <td>2019-07-30T00:00:00.000</td>\n",
       "      <td>40.749357</td>\n",
       "      <td>-73.939062</td>\n",
       "      <td>42-09 28th St_ Long Island City_ NY 11101_ USA</td>\n",
       "      <td>11101</td>\n",
       "      <td>Queens</td>\n",
       "    </tr>\n",
       "    <tr>\n",
       "      <th>3</th>\n",
       "      <td>138531</td>\n",
       "      <td>DEPT OF ENVIRONMENT PROTECTION</td>\n",
       "      <td>Internal</td>\n",
       "      <td>1</td>\n",
       "      <td>Associate Chemist</td>\n",
       "      <td>ASSOCIATE CHEMIST</td>\n",
       "      <td>21822</td>\n",
       "      <td>2</td>\n",
       "      <td>Health Public Safety_ Inspections_ &amp; Enforcement</td>\n",
       "      <td>F</td>\n",
       "      <td>...</td>\n",
       "      <td>New York City residency is generally required ...</td>\n",
       "      <td>2013-12-20T00:00:00.000</td>\n",
       "      <td>NaN</td>\n",
       "      <td>2014-07-25T00:00:00.000</td>\n",
       "      <td>2019-07-30T00:00:00.000</td>\n",
       "      <td>40.734880</td>\n",
       "      <td>-73.863489</td>\n",
       "      <td>96-05 Horace Harding Expy_ Elmhurst_ NY 11373_...</td>\n",
       "      <td>11373</td>\n",
       "      <td>Queens</td>\n",
       "    </tr>\n",
       "    <tr>\n",
       "      <th>4</th>\n",
       "      <td>152738</td>\n",
       "      <td>LAW DEPARTMENT</td>\n",
       "      <td>Internal</td>\n",
       "      <td>1</td>\n",
       "      <td>Office Manager</td>\n",
       "      <td>CLERICAL ASSOCIATE</td>\n",
       "      <td>10251</td>\n",
       "      <td>3</td>\n",
       "      <td>Clerical &amp; Administrative Support</td>\n",
       "      <td>F</td>\n",
       "      <td>...</td>\n",
       "      <td>New York City residency is generally required ...</td>\n",
       "      <td>2014-06-26T00:00:00.000</td>\n",
       "      <td>NaN</td>\n",
       "      <td>2014-06-26T00:00:00.000</td>\n",
       "      <td>2019-07-30T00:00:00.000</td>\n",
       "      <td>40.713299</td>\n",
       "      <td>-74.010110</td>\n",
       "      <td>100 Church St_ New York_ NY 10007_ USA</td>\n",
       "      <td>10007</td>\n",
       "      <td>Manhattan</td>\n",
       "    </tr>\n",
       "  </tbody>\n",
       "</table>\n",
       "<p>5 rows × 33 columns</p>\n",
       "</div>"
      ],
      "text/plain": [
       "   Job ID                          Agency Posting Type  # Of Positions  \\\n",
       "0   87990    DEPARTMENT OF BUSINESS SERV.     Internal               1   \n",
       "1   97899    DEPARTMENT OF BUSINESS SERV.     Internal               1   \n",
       "2  137433   DEPT OF HEALTH/MENTAL HYGIENE     Internal               1   \n",
       "3  138531  DEPT OF ENVIRONMENT PROTECTION     Internal               1   \n",
       "4  152738                  LAW DEPARTMENT     Internal               1   \n",
       "\n",
       "                             Business Title             Civil Service Title  \\\n",
       "0                           Account Manager  CONTRACT REVIEWER (OFFICE OF L   \n",
       "1  EXECUTIVE DIRECTOR_ BUSINESS DEVELOPMENT  ADMINISTRATIVE BUSINESS PROMOT   \n",
       "2                          Contract Analyst             PROCUREMENT ANALYST   \n",
       "3                         Associate Chemist               ASSOCIATE CHEMIST   \n",
       "4                            Office Manager              CLERICAL ASSOCIATE   \n",
       "\n",
       "  Title Code No Level                                      Job Category  \\\n",
       "0         40563     1                                               NaN   \n",
       "1         10009    M3                                               NaN   \n",
       "2         12158     3                Finance_ Accounting_ & Procurement   \n",
       "3         21822     2  Health Public Safety_ Inspections_ & Enforcement   \n",
       "4         10251     3                 Clerical & Administrative Support   \n",
       "\n",
       "  Full-Time/Part-Time indicator  ...  \\\n",
       "0                           NaN  ...   \n",
       "1                             F  ...   \n",
       "2                             F  ...   \n",
       "3                             F  ...   \n",
       "4                             F  ...   \n",
       "\n",
       "                               Residency Requirement             Posting Date  \\\n",
       "0  New York City residency is generally required ...  2011-06-24T00:00:00.000   \n",
       "1  New York City residency is generally required ...  2012-01-26T00:00:00.000   \n",
       "2  New York City residency is generally required ...  2013-12-09T00:00:00.000   \n",
       "3  New York City residency is generally required ...  2013-12-20T00:00:00.000   \n",
       "4  New York City residency is generally required ...  2014-06-26T00:00:00.000   \n",
       "\n",
       "  Post Until          Posting Updated             Process Date    New Lat  \\\n",
       "0        NaN  2011-06-24T00:00:00.000  2019-07-30T00:00:00.000  40.708793   \n",
       "1        NaN  2012-01-26T00:00:00.000  2019-07-30T00:00:00.000  40.708793   \n",
       "2        NaN  2013-12-09T00:00:00.000  2019-07-30T00:00:00.000  40.749357   \n",
       "3        NaN  2014-07-25T00:00:00.000  2019-07-30T00:00:00.000  40.734880   \n",
       "4        NaN  2014-06-26T00:00:00.000  2019-07-30T00:00:00.000  40.713299   \n",
       "\n",
       "    New Long                                  Formatted Address    Zip  \\\n",
       "0 -74.006836            110 William St_ New York_ NY 10038_ USA  10038   \n",
       "1 -74.006836            110 William St_ New York_ NY 10038_ USA  10038   \n",
       "2 -73.939062     42-09 28th St_ Long Island City_ NY 11101_ USA  11101   \n",
       "3 -73.863489  96-05 Horace Harding Expy_ Elmhurst_ NY 11373_...  11373   \n",
       "4 -74.010110             100 Church St_ New York_ NY 10007_ USA  10007   \n",
       "\n",
       "     Borough  \n",
       "0  Manhattan  \n",
       "1  Manhattan  \n",
       "2     Queens  \n",
       "3     Queens  \n",
       "4  Manhattan  \n",
       "\n",
       "[5 rows x 33 columns]"
      ]
     },
     "execution_count": 2,
     "metadata": {},
     "output_type": "execute_result"
    }
   ],
   "source": [
    "# Bring in csv and look at data\n",
    "nyc_jobs_csv = \"Clean_and_complete_NYC_job_noComma.csv\"\n",
    "nyc_df = pd.read_csv(nyc_jobs_csv)\n",
    "nyc_df.head()"
   ]
  },
  {
   "cell_type": "code",
   "execution_count": 3,
   "metadata": {},
   "outputs": [
    {
     "data": {
      "text/plain": [
       "['Job ID',\n",
       " 'Agency',\n",
       " 'Posting Type',\n",
       " '# Of Positions',\n",
       " 'Business Title',\n",
       " 'Civil Service Title',\n",
       " 'Title Code No',\n",
       " 'Level',\n",
       " 'Job Category',\n",
       " 'Full-Time/Part-Time indicator',\n",
       " 'Salary Range From',\n",
       " 'Salary Range To',\n",
       " 'Salary Frequency',\n",
       " 'Work Location',\n",
       " 'Division/Work Unit',\n",
       " 'Job Description',\n",
       " 'Minimum Qual Requirements',\n",
       " 'Preferred Skills',\n",
       " 'Additional Information',\n",
       " 'To Apply',\n",
       " 'Hours/Shift',\n",
       " 'Work Location 1',\n",
       " 'Recruitment Contact',\n",
       " 'Residency Requirement',\n",
       " 'Posting Date',\n",
       " 'Post Until',\n",
       " 'Posting Updated',\n",
       " 'Process Date',\n",
       " 'New Lat',\n",
       " 'New Long',\n",
       " 'Formatted Address',\n",
       " 'Zip',\n",
       " 'Borough']"
      ]
     },
     "execution_count": 3,
     "metadata": {},
     "output_type": "execute_result"
    }
   ],
   "source": [
    "# List out all the columns\n",
    "list(nyc_df)"
   ]
  },
  {
   "cell_type": "code",
   "execution_count": null,
   "metadata": {},
   "outputs": [],
   "source": [
    "\n",
    "value_counts = df['a'].value_counts(dropna=True, sort=True)\n",
    "df = value_counts.rename_axis('unique_values').reset_index(name='counts')\n"
   ]
  },
  {
   "cell_type": "code",
   "execution_count": 41,
   "metadata": {},
   "outputs": [
    {
     "data": {
      "text/html": [
       "<div>\n",
       "<style scoped>\n",
       "    .dataframe tbody tr th:only-of-type {\n",
       "        vertical-align: middle;\n",
       "    }\n",
       "\n",
       "    .dataframe tbody tr th {\n",
       "        vertical-align: top;\n",
       "    }\n",
       "\n",
       "    .dataframe thead th {\n",
       "        text-align: right;\n",
       "    }\n",
       "</style>\n",
       "<table border=\"1\" class=\"dataframe\">\n",
       "  <thead>\n",
       "    <tr style=\"text-align: right;\">\n",
       "      <th></th>\n",
       "      <th>F/P</th>\n",
       "      <th>counts</th>\n",
       "    </tr>\n",
       "  </thead>\n",
       "  <tbody>\n",
       "    <tr>\n",
       "      <th>0</th>\n",
       "      <td>F</td>\n",
       "      <td>2576</td>\n",
       "    </tr>\n",
       "    <tr>\n",
       "      <th>1</th>\n",
       "      <td>P</td>\n",
       "      <td>149</td>\n",
       "    </tr>\n",
       "  </tbody>\n",
       "</table>\n",
       "</div>"
      ],
      "text/plain": [
       "  F/P  counts\n",
       "0   F    2576\n",
       "1   P     149"
      ]
     },
     "execution_count": 41,
     "metadata": {},
     "output_type": "execute_result"
    }
   ],
   "source": [
    "FTPT_df_vc = nyc_df[\"Full-Time/Part-Time indicator\"].value_counts()\n",
    "FTPT_df = FTPT_df_vc.rename_axis('F/P').reset_index(name='counts')\n",
    "FTPT_df"
   ]
  },
  {
   "cell_type": "code",
   "execution_count": 4,
   "metadata": {
    "scrolled": true
   },
   "outputs": [
    {
     "data": {
      "text/html": [
       "<div>\n",
       "<style scoped>\n",
       "    .dataframe tbody tr th:only-of-type {\n",
       "        vertical-align: middle;\n",
       "    }\n",
       "\n",
       "    .dataframe tbody tr th {\n",
       "        vertical-align: top;\n",
       "    }\n",
       "\n",
       "    .dataframe thead th {\n",
       "        text-align: right;\n",
       "    }\n",
       "</style>\n",
       "<table border=\"1\" class=\"dataframe\">\n",
       "  <thead>\n",
       "    <tr style=\"text-align: right;\">\n",
       "      <th></th>\n",
       "      <th>Borough</th>\n",
       "      <th>Salary Range From</th>\n",
       "      <th>Salary Range To</th>\n",
       "      <th>Salary Frequency</th>\n",
       "    </tr>\n",
       "  </thead>\n",
       "  <tbody>\n",
       "    <tr>\n",
       "      <th>0</th>\n",
       "      <td>Manhattan</td>\n",
       "      <td>42405.0</td>\n",
       "      <td>65485.0</td>\n",
       "      <td>Annual</td>\n",
       "    </tr>\n",
       "    <tr>\n",
       "      <th>1</th>\n",
       "      <td>Manhattan</td>\n",
       "      <td>60740.0</td>\n",
       "      <td>162014.0</td>\n",
       "      <td>Annual</td>\n",
       "    </tr>\n",
       "    <tr>\n",
       "      <th>2</th>\n",
       "      <td>Queens</td>\n",
       "      <td>50598.0</td>\n",
       "      <td>85053.0</td>\n",
       "      <td>Annual</td>\n",
       "    </tr>\n",
       "    <tr>\n",
       "      <th>3</th>\n",
       "      <td>Queens</td>\n",
       "      <td>50623.0</td>\n",
       "      <td>75083.0</td>\n",
       "      <td>Annual</td>\n",
       "    </tr>\n",
       "    <tr>\n",
       "      <th>4</th>\n",
       "      <td>Manhattan</td>\n",
       "      <td>30683.0</td>\n",
       "      <td>49707.0</td>\n",
       "      <td>Annual</td>\n",
       "    </tr>\n",
       "  </tbody>\n",
       "</table>\n",
       "</div>"
      ],
      "text/plain": [
       "     Borough  Salary Range From  Salary Range To Salary Frequency\n",
       "0  Manhattan            42405.0          65485.0           Annual\n",
       "1  Manhattan            60740.0         162014.0           Annual\n",
       "2     Queens            50598.0          85053.0           Annual\n",
       "3     Queens            50623.0          75083.0           Annual\n",
       "4  Manhattan            30683.0          49707.0           Annual"
      ]
     },
     "execution_count": 4,
     "metadata": {},
     "output_type": "execute_result"
    }
   ],
   "source": [
    "plots_df = nyc_df.loc[:, [\"Borough\",\"Salary Range From\", \"Salary Range To\",\"Salary Frequency\"]]\n",
    "plots_df.head()"
   ]
  },
  {
   "cell_type": "code",
   "execution_count": 5,
   "metadata": {},
   "outputs": [
    {
     "data": {
      "text/plain": [
       "Borough               object\n",
       "Salary Range From    float64\n",
       "Salary Range To      float64\n",
       "Salary Frequency      object\n",
       "dtype: object"
      ]
     },
     "execution_count": 5,
     "metadata": {},
     "output_type": "execute_result"
    }
   ],
   "source": [
    "plots_df.dtypes"
   ]
  },
  {
   "cell_type": "code",
   "execution_count": 6,
   "metadata": {},
   "outputs": [],
   "source": [
    "plots_groupby_borough = plots_df.groupby(\"Borough\")[[\"Salary Range From\", \"Salary Range To\"]].median()"
   ]
  },
  {
   "cell_type": "code",
   "execution_count": 7,
   "metadata": {},
   "outputs": [
    {
     "data": {
      "text/html": [
       "<div>\n",
       "<style scoped>\n",
       "    .dataframe tbody tr th:only-of-type {\n",
       "        vertical-align: middle;\n",
       "    }\n",
       "\n",
       "    .dataframe tbody tr th {\n",
       "        vertical-align: top;\n",
       "    }\n",
       "\n",
       "    .dataframe thead th {\n",
       "        text-align: right;\n",
       "    }\n",
       "</style>\n",
       "<table border=\"1\" class=\"dataframe\">\n",
       "  <thead>\n",
       "    <tr style=\"text-align: right;\">\n",
       "      <th></th>\n",
       "      <th>Salary Range From</th>\n",
       "      <th>Salary Range To</th>\n",
       "    </tr>\n",
       "    <tr>\n",
       "      <th>Borough</th>\n",
       "      <th></th>\n",
       "      <th></th>\n",
       "    </tr>\n",
       "  </thead>\n",
       "  <tbody>\n",
       "    <tr>\n",
       "      <th>Brooklyn</th>\n",
       "      <td>62431.0</td>\n",
       "      <td>83545.5</td>\n",
       "    </tr>\n",
       "    <tr>\n",
       "      <th>Manhattan</th>\n",
       "      <td>57337.0</td>\n",
       "      <td>76000.0</td>\n",
       "    </tr>\n",
       "    <tr>\n",
       "      <th>Queens</th>\n",
       "      <td>58152.0</td>\n",
       "      <td>86238.0</td>\n",
       "    </tr>\n",
       "    <tr>\n",
       "      <th>Staten Island</th>\n",
       "      <td>47692.0</td>\n",
       "      <td>57161.0</td>\n",
       "    </tr>\n",
       "    <tr>\n",
       "      <th>The Bronx</th>\n",
       "      <td>59023.0</td>\n",
       "      <td>67876.0</td>\n",
       "    </tr>\n",
       "  </tbody>\n",
       "</table>\n",
       "</div>"
      ],
      "text/plain": [
       "               Salary Range From  Salary Range To\n",
       "Borough                                          \n",
       "Brooklyn                 62431.0          83545.5\n",
       "Manhattan                57337.0          76000.0\n",
       "Queens                   58152.0          86238.0\n",
       "Staten Island            47692.0          57161.0\n",
       "The Bronx                59023.0          67876.0"
      ]
     },
     "execution_count": 7,
     "metadata": {},
     "output_type": "execute_result"
    }
   ],
   "source": [
    "#  df.groupby(df.date.dt.date)[['sentiment']].median()\n",
    "plots_groupby_borough"
   ]
  },
  {
   "cell_type": "code",
   "execution_count": 8,
   "metadata": {},
   "outputs": [],
   "source": [
    "# plots_groupby_borough[\"Salary Range From\"] = plots_groupby_borough[\"Salary Range From\"].map(\"${:,.2f}\".format)\n",
    "# plots_groupby_borough[\"Salary Range To\"] = plots_groupby_borough[\"Salary Range To\"].map(\"${:,.2f}\".format)"
   ]
  },
  {
   "cell_type": "code",
   "execution_count": 9,
   "metadata": {},
   "outputs": [
    {
     "data": {
      "text/html": [
       "<div>\n",
       "<style scoped>\n",
       "    .dataframe tbody tr th:only-of-type {\n",
       "        vertical-align: middle;\n",
       "    }\n",
       "\n",
       "    .dataframe tbody tr th {\n",
       "        vertical-align: top;\n",
       "    }\n",
       "\n",
       "    .dataframe thead th {\n",
       "        text-align: right;\n",
       "    }\n",
       "</style>\n",
       "<table border=\"1\" class=\"dataframe\">\n",
       "  <thead>\n",
       "    <tr style=\"text-align: right;\">\n",
       "      <th></th>\n",
       "      <th>Salary Range From</th>\n",
       "      <th>Salary Range To</th>\n",
       "    </tr>\n",
       "    <tr>\n",
       "      <th>Borough</th>\n",
       "      <th></th>\n",
       "      <th></th>\n",
       "    </tr>\n",
       "  </thead>\n",
       "  <tbody>\n",
       "    <tr>\n",
       "      <th>Brooklyn</th>\n",
       "      <td>62431.0</td>\n",
       "      <td>83545.5</td>\n",
       "    </tr>\n",
       "    <tr>\n",
       "      <th>Manhattan</th>\n",
       "      <td>57337.0</td>\n",
       "      <td>76000.0</td>\n",
       "    </tr>\n",
       "    <tr>\n",
       "      <th>Queens</th>\n",
       "      <td>58152.0</td>\n",
       "      <td>86238.0</td>\n",
       "    </tr>\n",
       "    <tr>\n",
       "      <th>Staten Island</th>\n",
       "      <td>47692.0</td>\n",
       "      <td>57161.0</td>\n",
       "    </tr>\n",
       "    <tr>\n",
       "      <th>The Bronx</th>\n",
       "      <td>59023.0</td>\n",
       "      <td>67876.0</td>\n",
       "    </tr>\n",
       "  </tbody>\n",
       "</table>\n",
       "</div>"
      ],
      "text/plain": [
       "               Salary Range From  Salary Range To\n",
       "Borough                                          \n",
       "Brooklyn                 62431.0          83545.5\n",
       "Manhattan                57337.0          76000.0\n",
       "Queens                   58152.0          86238.0\n",
       "Staten Island            47692.0          57161.0\n",
       "The Bronx                59023.0          67876.0"
      ]
     },
     "execution_count": 9,
     "metadata": {},
     "output_type": "execute_result"
    }
   ],
   "source": [
    "plots_groupby_borough"
   ]
  },
  {
   "cell_type": "code",
   "execution_count": 10,
   "metadata": {
    "scrolled": false
   },
   "outputs": [],
   "source": [
    "# data1 = plots_groupby_borough[\"Salary Range From\"]\n",
    "# data2 = plots_groupby_borough[\"Salary Range To\"]\n",
    "\n",
    "# width = 0.3\n",
    "# height = 3\n",
    "# plt.bar(np.arange(len(data1)), width = width, height = height)\n",
    "# plt.bar(np.arange(len(data2)), width = width, height = height)\n",
    "\n",
    "# plt.ylabel(\"Median Salary\")\n",
    "# plt.title(\"Median Salary for Job Openings by Borough\")"
   ]
  },
  {
   "cell_type": "code",
   "execution_count": 11,
   "metadata": {},
   "outputs": [
    {
     "data": {
      "text/html": [
       "<div>\n",
       "<style scoped>\n",
       "    .dataframe tbody tr th:only-of-type {\n",
       "        vertical-align: middle;\n",
       "    }\n",
       "\n",
       "    .dataframe tbody tr th {\n",
       "        vertical-align: top;\n",
       "    }\n",
       "\n",
       "    .dataframe thead th {\n",
       "        text-align: right;\n",
       "    }\n",
       "</style>\n",
       "<table border=\"1\" class=\"dataframe\">\n",
       "  <thead>\n",
       "    <tr style=\"text-align: right;\">\n",
       "      <th></th>\n",
       "      <th>Borough</th>\n",
       "      <th>Salary Range From</th>\n",
       "      <th>Salary Range To</th>\n",
       "    </tr>\n",
       "  </thead>\n",
       "  <tbody>\n",
       "    <tr>\n",
       "      <th>0</th>\n",
       "      <td>Brooklyn</td>\n",
       "      <td>62431.0</td>\n",
       "      <td>83545.5</td>\n",
       "    </tr>\n",
       "    <tr>\n",
       "      <th>1</th>\n",
       "      <td>Manhattan</td>\n",
       "      <td>57337.0</td>\n",
       "      <td>76000.0</td>\n",
       "    </tr>\n",
       "    <tr>\n",
       "      <th>2</th>\n",
       "      <td>Queens</td>\n",
       "      <td>58152.0</td>\n",
       "      <td>86238.0</td>\n",
       "    </tr>\n",
       "    <tr>\n",
       "      <th>3</th>\n",
       "      <td>Staten Island</td>\n",
       "      <td>47692.0</td>\n",
       "      <td>57161.0</td>\n",
       "    </tr>\n",
       "    <tr>\n",
       "      <th>4</th>\n",
       "      <td>The Bronx</td>\n",
       "      <td>59023.0</td>\n",
       "      <td>67876.0</td>\n",
       "    </tr>\n",
       "  </tbody>\n",
       "</table>\n",
       "</div>"
      ],
      "text/plain": [
       "         Borough  Salary Range From  Salary Range To\n",
       "0       Brooklyn            62431.0          83545.5\n",
       "1      Manhattan            57337.0          76000.0\n",
       "2         Queens            58152.0          86238.0\n",
       "3  Staten Island            47692.0          57161.0\n",
       "4      The Bronx            59023.0          67876.0"
      ]
     },
     "execution_count": 11,
     "metadata": {},
     "output_type": "execute_result"
    }
   ],
   "source": [
    "new_df = plots_groupby_borough.reset_index()\n",
    "new_df"
   ]
  },
  {
   "cell_type": "code",
   "execution_count": 22,
   "metadata": {},
   "outputs": [
    {
     "data": {
      "image/png": "[encoded data removed]",
      "text/plain": [
       "<Figure size 432x288 with 1 Axes>"
      ]
     },
     "metadata": {
      "needs_background": "light"
     },
     "output_type": "display_data"
    }
   ],
   "source": [
    "boroughs = new_df[\"Borough\"]\n",
    "pos = np.arange(len(boroughs))\n",
    "data1=new_df[\"Salary Range From\"]\n",
    "data2 = new_df[\"Salary Range To\"]\n",
    "medians = [\"Median Salary From\", \"Median Salary Range To\" ]\n",
    "\n",
    "bar_width = 0.35\n",
    " \n",
    "plt.bar(pos,data1,bar_width,color='blue',edgecolor='black')\n",
    "plt.bar(pos+bar_width,data2,bar_width, color='orange',edgecolor='black')\n",
    "\n",
    "plt.xticks(pos, boroughs)\n",
    "plt.xlabel('Boroughs', fontsize=16)\n",
    "plt.ylabel('Median Salary', fontsize=16)\n",
    "plt.title('Median Salary by Borough',fontsize=20)\n",
    "plt.legend(medians,loc=\"best\")\n",
    "\n",
    "plt.savefig(\"MedianSalBarchart.png\")\n",
    "\n",
    "plt.show()\n",
    "\n"
   ]
  },
  {
   "cell_type": "code",
   "execution_count": 13,
   "metadata": {},
   "outputs": [
    {
     "data": {
      "text/plain": [
       "Borough               object\n",
       "Salary Range From    float64\n",
       "Salary Range To      float64\n",
       "dtype: object"
      ]
     },
     "execution_count": 13,
     "metadata": {},
     "output_type": "execute_result"
    }
   ],
   "source": [
    "new_df.dtypes"
   ]
  },
  {
   "cell_type": "code",
   "execution_count": null,
   "metadata": {},
   "outputs": [],
   "source": []
  },
  {
   "cell_type": "code",
   "execution_count": 50,
   "metadata": {},
   "outputs": [
    {
     "data": {
      "image/png": "[encoded data removed]",
      "text/plain": [
       "<Figure size 432x288 with 1 Axes>"
      ]
     },
     "metadata": {},
     "output_type": "display_data"
    }
   ],
   "source": [
    "labels = FTPT_df[\"F/P\"]\n",
    "sizes = FTPT_df['counts']\n",
    "colors = ['orange','skyblue']\n",
    "explode = (0.5, 0)  # explode 1st slice\n",
    "\n",
    "# Plot\n",
    "plt.title(\"Full Time/Part Time Pie Chart\")\n",
    "plt.pie(sizes, explode=explode, labels=labels, colors=colors,\n",
    "autopct='%1.1f%%', shadow=True, startangle=140)\n",
    "\n",
    "plt.axis('equal')\n",
    "plt.show()"
   ]
  },
  {
   "cell_type": "code",
   "execution_count": null,
   "metadata": {},
   "outputs": [],
   "source": []
  }
 ],
 "metadata": {
  "kernelspec": {
   "display_name": "WashU",
   "language": "python",
   "name": "washu"
  },
  "language_info": {
   "codemirror_mode": {
    "name": "ipython",
    "version": 3
   },
   "file_extension": ".py",
   "mimetype": "text/x-python",
   "name": "python",
   "nbconvert_exporter": "python",
   "pygments_lexer": "ipython3",
   "version": "3.6.8"
  }
 },
 "nbformat": 4,
 "nbformat_minor": 2
}
